{
 "cells": [
  {
   "cell_type": "markdown",
   "id": "414f9045",
   "metadata": {},
   "source": [
    "Q1. Which function is used to open a file? What are the different modes of opening a file? Explain each mode\n",
    "    of file opening.\n",
    "    \n",
    "Ans:-In Python, the built-in open() function is used to open a file. This function returns a file object that\n",
    "     can then be used to read from or write to the file.\n",
    "     \n",
    "     Different Modes of Opening a File:\n",
    "     a)'r' (Read Mode)\n",
    "     b)'w' (Write Mode)\n",
    "     c)'a' (Append Mode)\n",
    "     d)'b' (Binary Mode)\n",
    "     e)'t' (Text Mode)\n",
    "     f)'+' (Read and Write Mode)\n",
    "     \n",
    "     Exaplainition:\n",
    "    'r' (Read Mode)\n",
    "    Opens the file in read-only mode.\n",
    "    The file pointer is placed at the beginning of the file.\n",
    "    Raises an error if the file does not exist.\n",
    "    \n",
    "    'w' (Write Mode)\n",
    "    Opens the file in write-only mode.\n",
    "    If the file exists, it truncates the file to zero-length.\n",
    "    If the file does not exist, it creates a new file for writing.\n",
    "    \n",
    "    'a' (Append Mode)\n",
    "    Opens the file for appending data to it.\n",
    "    The file pointer is at the end of the file.\n",
    "    If the file does not exist, it creates a new file for appending.\n",
    "    \n",
    "    'b' (Binary Mode)\n",
    "    This mode is used for binary files (e.g., images).\n",
    "    It is used in conjunction with other modes, like 'rb', 'wb', or 'ab'.\n",
    "    \n",
    "    't' (Text Mode)\n",
    "    This is the default mode when the 'b' is not included.\n",
    "    It's used for text files, like .txt files.\n",
    "    It's optional as you can open text files without specifying it, but it's good for clarity.\n",
    "    \n",
    "    '+' (Read and Write Mode)\n",
    "    Opens the file in both read and write mode.\n",
    "    Useful when you want to perform both read and write operations on the file.\n",
    "    Combine it with other modes like 'r+', 'w+', or 'a+'.\n"
   ]
  },
  {
   "cell_type": "markdown",
   "id": "a4751cf8",
   "metadata": {},
   "source": [
    "Q2. Why close() function is used? Why is it important to close a file?\n",
    "\n",
    "Ans:-The close() method closes an open file. You should always close your files, in some cases,\n",
    "     due to buffering, changes made to a file may not show until you close the file.\n",
    "        \n",
    "     Importance:\n",
    "     Closing a file after use is important because it frees up system resources that are being used by the file.\n",
    "     When a file is open, the operating system allocates memory and other resources to the file, which can potentially\n",
    "     impact the performance of the system if too many files are open at the same time."
   ]
  },
  {
   "cell_type": "markdown",
   "id": "d4e5afdf",
   "metadata": {},
   "source": [
    "Q3. Write a python program to create a text file. Write ‘I want to become a Data Scientist’ in that file. Then\n",
    "    close the file. Open this file and read the content of the file."
   ]
  },
  {
   "cell_type": "code",
   "execution_count": 1,
   "id": "53becabb",
   "metadata": {},
   "outputs": [
    {
     "name": "stdout",
     "output_type": "stream",
     "text": [
      "File 'data_scientist.txt' has been created and content has been written.\n",
      "\n",
      "Content of the file:\n",
      "I want to become a Data Scientist\n"
     ]
    }
   ],
   "source": [
    "# Step 1: Create a text file and write content to it\n",
    "with open('data_scientist.txt', 'w') as file:\n",
    "    file.write('I want to become a Data Scientist')\n",
    "\n",
    "print(\"File 'data_scientist.txt' has been created and content has been written.\\n\")\n",
    "\n",
    "# Step 2: Open the file and read its content\n",
    "with open('data_scientist.txt', 'r') as file:\n",
    "    content = file.read()\n",
    "    print(\"Content of the file:\")\n",
    "    print(content)\n"
   ]
  },
  {
   "cell_type": "markdown",
   "id": "594b881b",
   "metadata": {},
   "source": [
    "Q4. Explain the following with python code: read(), readline() and readlines().\n",
    "Ans:-\n",
    "\n",
    "read():\n",
    "The read() method reads and returns the entire content of the file as a single string.\n",
    "If you specify a number n inside the read(n) method, it will read up to n characters from the file.\n",
    "\n",
    "readline():\n",
    "The readline() method reads and returns a single line from the file.\n",
    "Subsequent calls to readline() will read the next lines one by one until the end of the file is reached.\n",
    "If you've reached the end of the file, readline() will return an empty string.\n",
    "\n",
    "readlines():\n",
    "The readlines() method reads all lines from the file and returns them as a list.\n",
    "Each line in the list corresponds to a line in the file, including the newline character at the end of each line."
   ]
  },
  {
   "cell_type": "markdown",
   "id": "d033de25",
   "metadata": {},
   "source": [
    "Q5. Explain why with statement is used with open(). What is the advantage of using with statement and\n",
    "open() together?\n",
    "\n",
    "Ans:-When used with the open() function to handle file operations, the with statement ensures that the file is automatically\n",
    "    closed once you're done with it, even if an exception occurs within the block of code. This means you don't have to \n",
    "    explicitly call the close() method on the file object.\n",
    "    \n",
    "    Advantages:\n",
    "    a)Automatic Resource Management:\n",
    "    b)Exception Handling: \n",
    "    c)Readable and Concise Code: \n",
    "    d)Reduces Boilerplate Code: "
   ]
  },
  {
   "cell_type": "markdown",
   "id": "a75ca0a1",
   "metadata": {},
   "source": [
    "Q6. Explain the write() and writelines() functions. Give a suitable example.\n",
    "\n",
    "Ans:-write():\n",
    "     The write() method is used to write a string to the file.\n",
    "     It takes a string as its argument and writes that string to the file at the current file position.\n",
    "    \n",
    "    writelines():\n",
    "    The writelines() method is used to write a list of strings to the file.\n",
    "    It takes a list of strings as its argument and writes each string in the list to the file.\n"
   ]
  },
  {
   "cell_type": "code",
   "execution_count": 2,
   "id": "ad6921db",
   "metadata": {},
   "outputs": [
    {
     "name": "stdout",
     "output_type": "stream",
     "text": [
      "Content has been written using write() method.\n",
      "\n",
      "Content has been written using writelines() method.\n"
     ]
    }
   ],
   "source": [
    "#Example\n",
    "# Create a file named 'sample_write.txt' and write content using write() method\n",
    "with open('sample_write.txt', 'w') as file:\n",
    "    file.write(\"Hello, World!\\n\")            # Writing a single line with newline character\n",
    "    file.write(\"Python is awesome.\\n\")       # Writing another line with newline character\n",
    "\n",
    "print(\"Content has been written using write() method.\\n\")\n",
    "\n",
    "# Create another file named 'sample_writelines.txt' and write content using writelines() method\n",
    "lines_to_write = [\n",
    "    \"Line 1: This is the first line.\\n\",      # Including newline character for each line\n",
    "    \"Line 2: This is the second line.\\n\"\n",
    "]\n",
    "\n",
    "with open('sample_writelines.txt', 'w') as file:\n",
    "    file.writelines(lines_to_write)           # Writing multiple lines using writelines()\n",
    "\n",
    "print(\"Content has been written using writelines() method.\")\n",
    "\n"
   ]
  },
  {
   "cell_type": "code",
   "execution_count": null,
   "id": "bd420c01",
   "metadata": {},
   "outputs": [],
   "source": []
  }
 ],
 "metadata": {
  "kernelspec": {
   "display_name": "Python 3 (ipykernel)",
   "language": "python",
   "name": "python3"
  },
  "language_info": {
   "codemirror_mode": {
    "name": "ipython",
    "version": 3
   },
   "file_extension": ".py",
   "mimetype": "text/x-python",
   "name": "python",
   "nbconvert_exporter": "python",
   "pygments_lexer": "ipython3",
   "version": "3.9.13"
  }
 },
 "nbformat": 4,
 "nbformat_minor": 5
}
